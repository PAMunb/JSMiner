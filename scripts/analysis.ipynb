{
 "cells": [
  {
   "cell_type": "code",
   "execution_count": 1,
   "metadata": {
    "tags": []
   },
   "outputs": [
    {
     "data": {
      "text/plain": [
       "               _                           \n",
       "platform       x86_64-conda_cos6-linux-gnu \n",
       "arch           x86_64                      \n",
       "os             linux-gnu                   \n",
       "system         x86_64, linux-gnu           \n",
       "status                                     \n",
       "major          3                           \n",
       "minor          6.2                         \n",
       "year           2019                        \n",
       "month          12                          \n",
       "day            12                          \n",
       "svn rev        77560                       \n",
       "language       R                           \n",
       "version.string R version 3.6.2 (2019-12-12)\n",
       "nickname       Dark and Stormy Night       "
      ]
     },
     "metadata": {},
     "output_type": "display_data"
    }
   ],
   "source": [
    "# docker run -it --rm -p 10000:8888 -v \"${PWD}\":/home/jovyan/work jupyter/datascience-notebook:r-3.6.2\n",
    "R.version"
   ]
  },
  {
   "cell_type": "code",
   "execution_count": 2,
   "metadata": {},
   "outputs": [
    {
     "data": {
      "text/plain": [
       "[1] ‘1.1.1’"
      ]
     },
     "metadata": {},
     "output_type": "display_data"
    },
    {
     "name": "stderr",
     "output_type": "stream",
     "text": [
      "Downloading GitHub repo r-lib/rlang@master\n",
      "\n"
     ]
    },
    {
     "name": "stdout",
     "output_type": "stream",
     "text": [
      "\u001b[32m✔\u001b[39m  \u001b[38;5;247mchecking for file ‘/tmp/Rtmpj3ME9j/remotes5dc666e0cda8/r-lib-rlang-c55f602/DESCRIPTION’\u001b[39m\u001b[36m\u001b[39m\n",
      "\u001b[38;5;247m─\u001b[39m\u001b[38;5;247m  \u001b[39m\u001b[38;5;247mpreparing ‘rlang’:\u001b[39m\u001b[36m\u001b[39m\n",
      "\u001b[32m✔\u001b[39m  \u001b[38;5;247mchecking DESCRIPTION meta-information\u001b[39m\u001b[36m\u001b[39m\n",
      "\u001b[38;5;247m─\u001b[39m\u001b[38;5;247m  \u001b[39m\u001b[38;5;247mcleaning src\u001b[39m\u001b[36m\u001b[39m\n",
      "\u001b[38;5;247m─\u001b[39m\u001b[38;5;247m  \u001b[39m\u001b[38;5;247mchecking for LF line-endings in source and make files and shell scripts\u001b[39m\u001b[36m\u001b[36m (432ms)\u001b[36m\u001b[39m\n",
      "\u001b[38;5;247m─\u001b[39m\u001b[38;5;247m  \u001b[39m\u001b[38;5;247mchecking for empty or unneeded directories\u001b[39m\u001b[36m\u001b[39m\n",
      "\u001b[38;5;247m─\u001b[39m\u001b[38;5;247m  \u001b[39m\u001b[38;5;247mbuilding ‘rlang_1.1.1.9000.tar.gz’\u001b[39m\u001b[36m\u001b[39m\n",
      "   \n",
      "\r"
     ]
    },
    {
     "data": {
      "text/plain": [
       "[1] ‘1.1.1.9000’"
      ]
     },
     "metadata": {},
     "output_type": "display_data"
    }
   ],
   "source": [
    "packageVersion(\"rlang\") # ‘1.0.6’\n",
    "devtools::install_github(\"r-lib/rlang\")\n",
    "packageVersion(\"rlang\") # ‘1.1.0.9000’"
   ]
  },
  {
   "cell_type": "markdown",
   "metadata": {},
   "source": [
    "---\n",
    "title: \"JavaScriptEvolution\"\n",
    "author: \"Walter Lucas et al.\"\n",
    "date: \"16/6/2023\"\n",
    "output: html_document\n",
    "---"
   ]
  },
  {
   "cell_type": "code",
   "execution_count": 43,
   "metadata": {
    "tags": [],
    "vscode": {
     "languageId": "r"
    }
   },
   "outputs": [
    {
     "name": "stderr",
     "output_type": "stream",
     "text": [
      "Updating HTML index of packages in '.Library'\n",
      "\n",
      "Making 'packages.html' ...\n",
      " done\n",
      "\n"
     ]
    }
   ],
   "source": [
    "# version\n",
    "install.packages(\"sqldf\", dependencies = TRUE)\n",
    "install.packages(\"stringr\", dependencies = TRUE)\n",
    "install.packages(\"reshape2\", dependencies = TRUE)\n",
    "install.packages(\"ggplot2\", dependencies = TRUE)\n",
    "install.packages(\"lubridate\", dependencies = TRUE)\n",
    "install.packages(\"lattice\", dependencies = TRUE)\n",
    "install.packages(\"corrplot\", dependencies = TRUE)\n",
    "install.packages(\"parsedate\", dependencies = TRUE)"
   ]
  },
  {
   "cell_type": "code",
   "execution_count": 45,
   "metadata": {
    "tags": [],
    "vscode": {
     "languageId": "r"
    }
   },
   "outputs": [],
   "source": [
    "knitr::opts_chunk$set(echo = TRUE)\n",
    "library(sqldf)\n",
    "library(stringr)\n",
    "library(reshape2)\n",
    "library(ggplot2)\n",
    "library(lubridate)\n",
    "library(lattice)\n",
    "library(dplyr)\n",
    "library(corrplot)\n",
    "library(parsedate)\n",
    "setwd(\".\")"
   ]
  },
  {
   "cell_type": "code",
   "execution_count": 47,
   "metadata": {
    "tags": [],
    "vscode": {
     "languageId": "r"
    }
   },
   "outputs": [
    {
     "data": {
      "text/html": [
       "<table>\n",
       "<caption>A data.frame: 28 × 4</caption>\n",
       "<thead>\n",
       "\t<tr><th scope=col>project</th><th scope=col>first_revision</th><th scope=col>last_revision</th><th scope=col>commits</th></tr>\n",
       "\t<tr><th scope=col>&lt;chr&gt;</th><th scope=col>&lt;dbl&gt;</th><th scope=col>&lt;dbl&gt;</th><th scope=col>&lt;int&gt;</th></tr>\n",
       "</thead>\n",
       "<tbody>\n",
       "\t<tr><td>argos-saleslogix               </td><td>15350</td><td>19492</td><td>302</td></tr>\n",
       "\t<tr><td>beef                           </td><td>15350</td><td>19571</td><td>331</td></tr>\n",
       "\t<tr><td>bitcore                        </td><td>15713</td><td>19571</td><td>427</td></tr>\n",
       "\t<tr><td>camper                         </td><td>15440</td><td>19460</td><td>150</td></tr>\n",
       "\t<tr><td>canto                          </td><td>15341</td><td>19694</td><td>425</td></tr>\n",
       "\t<tr><td>cuttingedge                    </td><td>15708</td><td>19666</td><td>148</td></tr>\n",
       "\t<tr><td>einverne.github.io             </td><td>15358</td><td>19665</td><td>312</td></tr>\n",
       "\t<tr><td>fabric.js                      </td><td>15711</td><td>19697</td><td>355</td></tr>\n",
       "\t<tr><td>highlight.js                   </td><td>15359</td><td>19663</td><td>387</td></tr>\n",
       "\t<tr><td>home-automation                </td><td>15806</td><td>19634</td><td>329</td></tr>\n",
       "\t<tr><td>jhipster.github.io             </td><td>15868</td><td>19665</td><td>368</td></tr>\n",
       "\t<tr><td>jspdf                          </td><td>15831</td><td>19462</td><td>203</td></tr>\n",
       "\t<tr><td>karma                          </td><td>15716</td><td>19468</td><td>261</td></tr>\n",
       "\t<tr><td>nodegit                        </td><td>15350</td><td>19632</td><td>275</td></tr>\n",
       "\t<tr><td>openstreetbrowser              </td><td>17173</td><td>19505</td><td>137</td></tr>\n",
       "\t<tr><td>patternlab-node                </td><td>15688</td><td>19694</td><td>269</td></tr>\n",
       "\t<tr><td>pouchdb                        </td><td>15742</td><td>19602</td><td>326</td></tr>\n",
       "\t<tr><td>puzzlescript                   </td><td>15746</td><td>19573</td><td> 85</td></tr>\n",
       "\t<tr><td>raygun4js                      </td><td>15778</td><td>19574</td><td>191</td></tr>\n",
       "\t<tr><td>reaction                       </td><td>15805</td><td>19510</td><td>406</td></tr>\n",
       "\t<tr><td>sharp                          </td><td>15746</td><td>19693</td><td>309</td></tr>\n",
       "\t<tr><td>skin                           </td><td>17177</td><td>19632</td><td>223</td></tr>\n",
       "\t<tr><td>streetmix                      </td><td>15724</td><td>19541</td><td>310</td></tr>\n",
       "\t<tr><td>svgo                           </td><td>15862</td><td>19403</td><td>167</td></tr>\n",
       "\t<tr><td>untrusted                      </td><td>15740</td><td>19634</td><td>108</td></tr>\n",
       "\t<tr><td>video-embed-thumbnail-generator</td><td>15390</td><td>19541</td><td>165</td></tr>\n",
       "\t<tr><td>webtorrent                     </td><td>15807</td><td>19692</td><td>300</td></tr>\n",
       "\t<tr><td>wulin_master                   </td><td>15359</td><td>19602</td><td>268</td></tr>\n",
       "</tbody>\n",
       "</table>\n"
      ],
      "text/latex": [
       "A data.frame: 28 × 4\n",
       "\\begin{tabular}{llll}\n",
       " project & first\\_revision & last\\_revision & commits\\\\\n",
       " <chr> & <dbl> & <dbl> & <int>\\\\\n",
       "\\hline\n",
       "\t argos-saleslogix                & 15350 & 19492 & 302\\\\\n",
       "\t beef                            & 15350 & 19571 & 331\\\\\n",
       "\t bitcore                         & 15713 & 19571 & 427\\\\\n",
       "\t camper                          & 15440 & 19460 & 150\\\\\n",
       "\t canto                           & 15341 & 19694 & 425\\\\\n",
       "\t cuttingedge                     & 15708 & 19666 & 148\\\\\n",
       "\t einverne.github.io              & 15358 & 19665 & 312\\\\\n",
       "\t fabric.js                       & 15711 & 19697 & 355\\\\\n",
       "\t highlight.js                    & 15359 & 19663 & 387\\\\\n",
       "\t home-automation                 & 15806 & 19634 & 329\\\\\n",
       "\t jhipster.github.io              & 15868 & 19665 & 368\\\\\n",
       "\t jspdf                           & 15831 & 19462 & 203\\\\\n",
       "\t karma                           & 15716 & 19468 & 261\\\\\n",
       "\t nodegit                         & 15350 & 19632 & 275\\\\\n",
       "\t openstreetbrowser               & 17173 & 19505 & 137\\\\\n",
       "\t patternlab-node                 & 15688 & 19694 & 269\\\\\n",
       "\t pouchdb                         & 15742 & 19602 & 326\\\\\n",
       "\t puzzlescript                    & 15746 & 19573 &  85\\\\\n",
       "\t raygun4js                       & 15778 & 19574 & 191\\\\\n",
       "\t reaction                        & 15805 & 19510 & 406\\\\\n",
       "\t sharp                           & 15746 & 19693 & 309\\\\\n",
       "\t skin                            & 17177 & 19632 & 223\\\\\n",
       "\t streetmix                       & 15724 & 19541 & 310\\\\\n",
       "\t svgo                            & 15862 & 19403 & 167\\\\\n",
       "\t untrusted                       & 15740 & 19634 & 108\\\\\n",
       "\t video-embed-thumbnail-generator & 15390 & 19541 & 165\\\\\n",
       "\t webtorrent                      & 15807 & 19692 & 300\\\\\n",
       "\t wulin\\_master                    & 15359 & 19602 & 268\\\\\n",
       "\\end{tabular}\n"
      ],
      "text/markdown": [
       "\n",
       "A data.frame: 28 × 4\n",
       "\n",
       "| project &lt;chr&gt; | first_revision &lt;dbl&gt; | last_revision &lt;dbl&gt; | commits &lt;int&gt; |\n",
       "|---|---|---|---|\n",
       "| argos-saleslogix                | 15350 | 19492 | 302 |\n",
       "| beef                            | 15350 | 19571 | 331 |\n",
       "| bitcore                         | 15713 | 19571 | 427 |\n",
       "| camper                          | 15440 | 19460 | 150 |\n",
       "| canto                           | 15341 | 19694 | 425 |\n",
       "| cuttingedge                     | 15708 | 19666 | 148 |\n",
       "| einverne.github.io              | 15358 | 19665 | 312 |\n",
       "| fabric.js                       | 15711 | 19697 | 355 |\n",
       "| highlight.js                    | 15359 | 19663 | 387 |\n",
       "| home-automation                 | 15806 | 19634 | 329 |\n",
       "| jhipster.github.io              | 15868 | 19665 | 368 |\n",
       "| jspdf                           | 15831 | 19462 | 203 |\n",
       "| karma                           | 15716 | 19468 | 261 |\n",
       "| nodegit                         | 15350 | 19632 | 275 |\n",
       "| openstreetbrowser               | 17173 | 19505 | 137 |\n",
       "| patternlab-node                 | 15688 | 19694 | 269 |\n",
       "| pouchdb                         | 15742 | 19602 | 326 |\n",
       "| puzzlescript                    | 15746 | 19573 |  85 |\n",
       "| raygun4js                       | 15778 | 19574 | 191 |\n",
       "| reaction                        | 15805 | 19510 | 406 |\n",
       "| sharp                           | 15746 | 19693 | 309 |\n",
       "| skin                            | 17177 | 19632 | 223 |\n",
       "| streetmix                       | 15724 | 19541 | 310 |\n",
       "| svgo                            | 15862 | 19403 | 167 |\n",
       "| untrusted                       | 15740 | 19634 | 108 |\n",
       "| video-embed-thumbnail-generator | 15390 | 19541 | 165 |\n",
       "| webtorrent                      | 15807 | 19692 | 300 |\n",
       "| wulin_master                    | 15359 | 19602 | 268 |\n",
       "\n"
      ],
      "text/plain": [
       "   project                         first_revision last_revision commits\n",
       "1  argos-saleslogix                15350          19492         302    \n",
       "2  beef                            15350          19571         331    \n",
       "3  bitcore                         15713          19571         427    \n",
       "4  camper                          15440          19460         150    \n",
       "5  canto                           15341          19694         425    \n",
       "6  cuttingedge                     15708          19666         148    \n",
       "7  einverne.github.io              15358          19665         312    \n",
       "8  fabric.js                       15711          19697         355    \n",
       "9  highlight.js                    15359          19663         387    \n",
       "10 home-automation                 15806          19634         329    \n",
       "11 jhipster.github.io              15868          19665         368    \n",
       "12 jspdf                           15831          19462         203    \n",
       "13 karma                           15716          19468         261    \n",
       "14 nodegit                         15350          19632         275    \n",
       "15 openstreetbrowser               17173          19505         137    \n",
       "16 patternlab-node                 15688          19694         269    \n",
       "17 pouchdb                         15742          19602         326    \n",
       "18 puzzlescript                    15746          19573          85    \n",
       "19 raygun4js                       15778          19574         191    \n",
       "20 reaction                        15805          19510         406    \n",
       "21 sharp                           15746          19693         309    \n",
       "22 skin                            17177          19632         223    \n",
       "23 streetmix                       15724          19541         310    \n",
       "24 svgo                            15862          19403         167    \n",
       "25 untrusted                       15740          19634         108    \n",
       "26 video-embed-thumbnail-generator 15390          19541         165    \n",
       "27 webtorrent                      15807          19692         300    \n",
       "28 wulin_master                    15359          19602         268    "
      ]
     },
     "metadata": {},
     "output_type": "display_data"
    }
   ],
   "source": [
    "## Load the dataset\n",
    "\n",
    "# async-declarationsawait-declarations\tconst-declarations\tclass-declarations\tarrow-function-declarations\tlet-declarations\n",
    "# export-declarations\tyield-declarations\timport-statements\tpromise-declarations\tpromise-all-and-then\tdefault-parameters\t\n",
    "# rest-statements\tspread-arguments\tarray-destructuring\tobject-destructuring\n",
    "\n",
    "ds <- read.csv(\"results.csv\", head=TRUE, sep=\",\")\n",
    "\n",
    "ds$date <- as.Date(parse_date(ds$date))\n",
    "\n",
    "projects <- sqldf(\"select project, \n",
    "                          min(date) as first_revision, \n",
    "                          max(date) as last_revision, \n",
    "                          count(revision) as commits\n",
    "                    from ds\n",
    "                    group by project\", method = \"name__class\")\n",
    "projects"
   ]
  },
  {
   "cell_type": "code",
   "execution_count": 49,
   "metadata": {
    "tags": [],
    "vscode": {
     "languageId": "r"
    }
   },
   "outputs": [
    {
     "data": {
      "text/html": [
       "<table>\n",
       "<caption>A tibble: 4 × 6</caption>\n",
       "<thead>\n",
       "\t<tr><th scope=col>feature</th><th scope=col>Mean</th><th scope=col>Max</th><th scope=col>Min</th><th scope=col>Median</th><th scope=col>Std</th></tr>\n",
       "\t<tr><th scope=col>&lt;fct&gt;</th><th scope=col>&lt;dbl&gt;</th><th scope=col>&lt;int&gt;</th><th scope=col>&lt;int&gt;</th><th scope=col>&lt;dbl&gt;</th><th scope=col>&lt;dbl&gt;</th></tr>\n",
       "</thead>\n",
       "<tbody>\n",
       "\t<tr><td>async_declarations         </td><td> 161.1429</td><td> 1868</td><td>  2</td><td>  54.0</td><td> 368.5853</td></tr>\n",
       "\t<tr><td>const_declarations         </td><td> 808.8571</td><td> 5952</td><td>  0</td><td> 313.5</td><td>1270.4098</td></tr>\n",
       "\t<tr><td>arrow_function_declarations</td><td>4576.0714</td><td>37859</td><td>362</td><td>2191.5</td><td>7392.0687</td></tr>\n",
       "\t<tr><td>let_declarations           </td><td> 126.7500</td><td> 1115</td><td>  0</td><td>  66.5</td><td> 218.2879</td></tr>\n",
       "</tbody>\n",
       "</table>\n"
      ],
      "text/latex": [
       "A tibble: 4 × 6\n",
       "\\begin{tabular}{llllll}\n",
       " feature & Mean & Max & Min & Median & Std\\\\\n",
       " <fct> & <dbl> & <int> & <int> & <dbl> & <dbl>\\\\\n",
       "\\hline\n",
       "\t async\\_declarations          &  161.1429 &  1868 &   2 &   54.0 &  368.5853\\\\\n",
       "\t const\\_declarations          &  808.8571 &  5952 &   0 &  313.5 & 1270.4098\\\\\n",
       "\t arrow\\_function\\_declarations & 4576.0714 & 37859 & 362 & 2191.5 & 7392.0687\\\\\n",
       "\t let\\_declarations            &  126.7500 &  1115 &   0 &   66.5 &  218.2879\\\\\n",
       "\\end{tabular}\n"
      ],
      "text/markdown": [
       "\n",
       "A tibble: 4 × 6\n",
       "\n",
       "| feature &lt;fct&gt; | Mean &lt;dbl&gt; | Max &lt;int&gt; | Min &lt;int&gt; | Median &lt;dbl&gt; | Std &lt;dbl&gt; |\n",
       "|---|---|---|---|---|---|\n",
       "| async_declarations          |  161.1429 |  1868 |   2 |   54.0 |  368.5853 |\n",
       "| const_declarations          |  808.8571 |  5952 |   0 |  313.5 | 1270.4098 |\n",
       "| arrow_function_declarations | 4576.0714 | 37859 | 362 | 2191.5 | 7392.0687 |\n",
       "| let_declarations            |  126.7500 |  1115 |   0 |   66.5 |  218.2879 |\n",
       "\n"
      ],
      "text/plain": [
       "  feature                     Mean      Max   Min Median Std      \n",
       "1 async_declarations           161.1429  1868   2   54.0  368.5853\n",
       "2 const_declarations           808.8571  5952   0  313.5 1270.4098\n",
       "3 arrow_function_declarations 4576.0714 37859 362 2191.5 7392.0687\n",
       "4 let_declarations             126.7500  1115   0   66.5  218.2879"
      ]
     },
     "metadata": {},
     "output_type": "display_data"
    },
    {
     "data": {
      "text/html": [
       "<table>\n",
       "<caption>A data.frame: 16 × 2</caption>\n",
       "<thead>\n",
       "\t<tr><th scope=col>feature</th><th scope=col>sum(total)</th></tr>\n",
       "\t<tr><th scope=col>&lt;fct&gt;</th><th scope=col>&lt;int&gt;</th></tr>\n",
       "</thead>\n",
       "<tbody>\n",
       "\t<tr><td>array_destructuring        </td><td>   172</td></tr>\n",
       "\t<tr><td>arrow_function_declarations</td><td>128130</td></tr>\n",
       "\t<tr><td>async_declarations         </td><td>  4512</td></tr>\n",
       "\t<tr><td>await_declarations         </td><td>  4309</td></tr>\n",
       "\t<tr><td>class_declarations         </td><td>   216</td></tr>\n",
       "\t<tr><td>const_declarations         </td><td> 22648</td></tr>\n",
       "\t<tr><td>default_parameters         </td><td>   350</td></tr>\n",
       "\t<tr><td>export_declarations        </td><td>  1440</td></tr>\n",
       "\t<tr><td>import_statements          </td><td>  7481</td></tr>\n",
       "\t<tr><td>let_declarations           </td><td>  3549</td></tr>\n",
       "\t<tr><td>object_destructuring       </td><td>  1717</td></tr>\n",
       "\t<tr><td>promise_all_and_then       </td><td>   613</td></tr>\n",
       "\t<tr><td>promise_declarations       </td><td>   382</td></tr>\n",
       "\t<tr><td>rest_statements            </td><td>   103</td></tr>\n",
       "\t<tr><td>spread_arguments           </td><td>   145</td></tr>\n",
       "\t<tr><td>yield_declarations         </td><td>    72</td></tr>\n",
       "</tbody>\n",
       "</table>\n"
      ],
      "text/latex": [
       "A data.frame: 16 × 2\n",
       "\\begin{tabular}{ll}\n",
       " feature & sum(total)\\\\\n",
       " <fct> & <int>\\\\\n",
       "\\hline\n",
       "\t array\\_destructuring         &    172\\\\\n",
       "\t arrow\\_function\\_declarations & 128130\\\\\n",
       "\t async\\_declarations          &   4512\\\\\n",
       "\t await\\_declarations          &   4309\\\\\n",
       "\t class\\_declarations          &    216\\\\\n",
       "\t const\\_declarations          &  22648\\\\\n",
       "\t default\\_parameters          &    350\\\\\n",
       "\t export\\_declarations         &   1440\\\\\n",
       "\t import\\_statements           &   7481\\\\\n",
       "\t let\\_declarations            &   3549\\\\\n",
       "\t object\\_destructuring        &   1717\\\\\n",
       "\t promise\\_all\\_and\\_then        &    613\\\\\n",
       "\t promise\\_declarations        &    382\\\\\n",
       "\t rest\\_statements             &    103\\\\\n",
       "\t spread\\_arguments            &    145\\\\\n",
       "\t yield\\_declarations          &     72\\\\\n",
       "\\end{tabular}\n"
      ],
      "text/markdown": [
       "\n",
       "A data.frame: 16 × 2\n",
       "\n",
       "| feature &lt;fct&gt; | sum(total) &lt;int&gt; |\n",
       "|---|---|\n",
       "| array_destructuring         |    172 |\n",
       "| arrow_function_declarations | 128130 |\n",
       "| async_declarations          |   4512 |\n",
       "| await_declarations          |   4309 |\n",
       "| class_declarations          |    216 |\n",
       "| const_declarations          |  22648 |\n",
       "| default_parameters          |    350 |\n",
       "| export_declarations         |   1440 |\n",
       "| import_statements           |   7481 |\n",
       "| let_declarations            |   3549 |\n",
       "| object_destructuring        |   1717 |\n",
       "| promise_all_and_then        |    613 |\n",
       "| promise_declarations        |    382 |\n",
       "| rest_statements             |    103 |\n",
       "| spread_arguments            |    145 |\n",
       "| yield_declarations          |     72 |\n",
       "\n"
      ],
      "text/plain": [
       "   feature                     sum(total)\n",
       "1  array_destructuring            172    \n",
       "2  arrow_function_declarations 128130    \n",
       "3  async_declarations            4512    \n",
       "4  await_declarations            4309    \n",
       "5  class_declarations             216    \n",
       "6  const_declarations           22648    \n",
       "7  default_parameters             350    \n",
       "8  export_declarations           1440    \n",
       "9  import_statements             7481    \n",
       "10 let_declarations              3549    \n",
       "11 object_destructuring          1717    \n",
       "12 promise_all_and_then           613    \n",
       "13 promise_declarations           382    \n",
       "14 rest_statements                103    \n",
       "15 spread_arguments               145    \n",
       "16 yield_declarations              72    "
      ]
     },
     "metadata": {},
     "output_type": "display_data"
    },
    {
     "data": {
      "text/html": [
       "<table>\n",
       "<caption>A data.frame: 16 × 2</caption>\n",
       "<thead>\n",
       "\t<tr><th scope=col>feature</th><th scope=col>percentage</th></tr>\n",
       "\t<tr><th scope=col>&lt;chr&gt;</th><th scope=col>&lt;dbl&gt;</th></tr>\n",
       "</thead>\n",
       "<tbody>\n",
       "\t<tr><td>array_destructuring        </td><td> 64.285714</td></tr>\n",
       "\t<tr><td>arrow_function_declarations</td><td>100.000000</td></tr>\n",
       "\t<tr><td>async_declarations         </td><td>100.000000</td></tr>\n",
       "\t<tr><td>await_declarations         </td><td> 60.714286</td></tr>\n",
       "\t<tr><td>class_declarations         </td><td> 50.000000</td></tr>\n",
       "\t<tr><td>const_declarations         </td><td> 89.285714</td></tr>\n",
       "\t<tr><td>default_parameters         </td><td> 64.285714</td></tr>\n",
       "\t<tr><td>export_declarations        </td><td> 39.285714</td></tr>\n",
       "\t<tr><td>import_statements          </td><td> 50.000000</td></tr>\n",
       "\t<tr><td>let_declarations           </td><td> 78.571429</td></tr>\n",
       "\t<tr><td>object_destructuring       </td><td> 67.857143</td></tr>\n",
       "\t<tr><td>promise_all_and_then       </td><td> 60.714286</td></tr>\n",
       "\t<tr><td>promise_declarations       </td><td> 60.714286</td></tr>\n",
       "\t<tr><td>rest_statements            </td><td> 35.714286</td></tr>\n",
       "\t<tr><td>spread_arguments           </td><td> 53.571429</td></tr>\n",
       "\t<tr><td>yield_declarations         </td><td>  3.571429</td></tr>\n",
       "</tbody>\n",
       "</table>\n"
      ],
      "text/latex": [
       "A data.frame: 16 × 2\n",
       "\\begin{tabular}{ll}\n",
       " feature & percentage\\\\\n",
       " <chr> & <dbl>\\\\\n",
       "\\hline\n",
       "\t array\\_destructuring         &  64.285714\\\\\n",
       "\t arrow\\_function\\_declarations & 100.000000\\\\\n",
       "\t async\\_declarations          & 100.000000\\\\\n",
       "\t await\\_declarations          &  60.714286\\\\\n",
       "\t class\\_declarations          &  50.000000\\\\\n",
       "\t const\\_declarations          &  89.285714\\\\\n",
       "\t default\\_parameters          &  64.285714\\\\\n",
       "\t export\\_declarations         &  39.285714\\\\\n",
       "\t import\\_statements           &  50.000000\\\\\n",
       "\t let\\_declarations            &  78.571429\\\\\n",
       "\t object\\_destructuring        &  67.857143\\\\\n",
       "\t promise\\_all\\_and\\_then        &  60.714286\\\\\n",
       "\t promise\\_declarations        &  60.714286\\\\\n",
       "\t rest\\_statements             &  35.714286\\\\\n",
       "\t spread\\_arguments            &  53.571429\\\\\n",
       "\t yield\\_declarations          &   3.571429\\\\\n",
       "\\end{tabular}\n"
      ],
      "text/markdown": [
       "\n",
       "A data.frame: 16 × 2\n",
       "\n",
       "| feature &lt;chr&gt; | percentage &lt;dbl&gt; |\n",
       "|---|---|\n",
       "| array_destructuring         |  64.285714 |\n",
       "| arrow_function_declarations | 100.000000 |\n",
       "| async_declarations          | 100.000000 |\n",
       "| await_declarations          |  60.714286 |\n",
       "| class_declarations          |  50.000000 |\n",
       "| const_declarations          |  89.285714 |\n",
       "| default_parameters          |  64.285714 |\n",
       "| export_declarations         |  39.285714 |\n",
       "| import_statements           |  50.000000 |\n",
       "| let_declarations            |  78.571429 |\n",
       "| object_destructuring        |  67.857143 |\n",
       "| promise_all_and_then        |  60.714286 |\n",
       "| promise_declarations        |  60.714286 |\n",
       "| rest_statements             |  35.714286 |\n",
       "| spread_arguments            |  53.571429 |\n",
       "| yield_declarations          |   3.571429 |\n",
       "\n"
      ],
      "text/plain": [
       "   feature                     percentage\n",
       "1  array_destructuring          64.285714\n",
       "2  arrow_function_declarations 100.000000\n",
       "3  async_declarations          100.000000\n",
       "4  await_declarations           60.714286\n",
       "5  class_declarations           50.000000\n",
       "6  const_declarations           89.285714\n",
       "7  default_parameters           64.285714\n",
       "8  export_declarations          39.285714\n",
       "9  import_statements            50.000000\n",
       "10 let_declarations             78.571429\n",
       "11 object_destructuring         67.857143\n",
       "12 promise_all_and_then         60.714286\n",
       "13 promise_declarations         60.714286\n",
       "14 rest_statements              35.714286\n",
       "15 spread_arguments             53.571429\n",
       "16 yield_declarations            3.571429"
      ]
     },
     "metadata": {},
     "output_type": "display_data"
    },
    {
     "data": {
      "image/png": "[encoded data removed]",
      "text/plain": [
       "plot without title"
      ]
     },
     "metadata": {
      "image/png": {
       "height": 420,
       "width": 420
      },
      "text/plain": {
       "height": 420,
       "width": 420
      }
     },
     "output_type": "display_data"
    }
   ],
   "source": [
    "### Research Question 1\n",
    "\n",
    "rq1 <- sqldf(\"select ds.project, date,async_declarations,await_declarations,const_declarations,class_declarations,\n",
    "              arrow_function_declarations,let_declarations,export_declarations,yield_declarations,import_statements,\n",
    "              promise_declarations,promise_all_and_then,default_parameters,rest_statements,spread_arguments,array_destructuring,\n",
    "              object_destructuring,statements,files\n",
    "              from ds, projects p\n",
    "              where ds.project = p.project\n",
    "              and ds.date = p.last_revision\", method = \"name__class\")\n",
    "\n",
    "rq1 <- melt(rq1, id.vars=c(\"project\", \"date\", \"statements\", \"files\"), value.name = \"total\", variable.name=\"feature\")\n",
    "\n",
    "# colnames(rq1)\n",
    "\n",
    "rq5 <- sqldf(\"select project, feature, total\n",
    "                      from rq1 \n",
    "                      where feature in ('async_declarations','arrow_function_declarations', 'const_declarations',\n",
    "'let_declarations')\n",
    "                      order by 2\")\n",
    "\n",
    "# pdf(\"distribution.pdf\",         # File name\n",
    "#     width = 8, height = 7, # Width and height in inches\n",
    "#     bg = \"white\")\n",
    "\n",
    "# bwplot(total~feature,data=rq5,xlab=\"Features\",ylab=\"Total\")\n",
    "\n",
    "# dev.off()\n",
    "\n",
    "bwplot(total~feature,data=rq5,xlab=\"Features\",ylab=\"Total\", md = tapply(rq5$total, rq5$feature, median),\n",
    "       panel = function(x, y, md, ...) {\n",
    "         panel.bwplot(x, y, ...)\n",
    "         panel.text(x = 1:4, y = md, labels = round(md, 2), pos = 3)\n",
    "       })\n",
    "\n",
    "rq5%>%\n",
    "group_by(feature)%>% \n",
    "summarise(Mean=mean(total), Max=max(total), Min=min(total), Median=median(total), Std=sd(total))\n",
    "\n",
    "sqldf(\"select feature, sum(total)\n",
    "       from rq1 \n",
    "       group by feature \n",
    "       order by 1\")\n",
    "\n",
    "rq1_summary <- sqldf(\"select feature, (100*count(distinct project))/28.0 percentage\n",
    "                      from rq1 \n",
    "                      where total > 0 \n",
    "                      group by feature\", method = \"name__class\")\n",
    "\n",
    "rq1_summary"
   ]
  },
  {
   "cell_type": "code",
   "execution_count": 50,
   "metadata": {
    "tags": [],
    "vscode": {
     "languageId": "r"
    }
   },
   "outputs": [
    {
     "data": {
      "text/html": [
       "28"
      ],
      "text/latex": [
       "28"
      ],
      "text/markdown": [
       "28"
      ],
      "text/plain": [
       "[1] 28"
      ]
     },
     "metadata": {},
     "output_type": "display_data"
    },
    {
     "data": {
      "text/html": [
       "<style>\n",
       ".list-inline {list-style: none; margin:0; padding: 0}\n",
       ".list-inline>li {display: inline-block}\n",
       ".list-inline>li:not(:last-child)::after {content: \"\\00b7\"; padding: 0 .5ex}\n",
       "</style>\n",
       "<ol class=list-inline><li>'project'</li><li>'total_arrow'</li><li>'total_async'</li><li>'total_const'</li><li>'total_let'</li></ol>\n"
      ],
      "text/latex": [
       "\\begin{enumerate*}\n",
       "\\item 'project'\n",
       "\\item 'total\\_arrow'\n",
       "\\item 'total\\_async'\n",
       "\\item 'total\\_const'\n",
       "\\item 'total\\_let'\n",
       "\\end{enumerate*}\n"
      ],
      "text/markdown": [
       "1. 'project'\n",
       "2. 'total_arrow'\n",
       "3. 'total_async'\n",
       "4. 'total_const'\n",
       "5. 'total_let'\n",
       "\n",
       "\n"
      ],
      "text/plain": [
       "[1] \"project\"     \"total_arrow\" \"total_async\" \"total_const\" \"total_let\"  "
      ]
     },
     "metadata": {},
     "output_type": "display_data"
    },
    {
     "data": {
      "text/html": [
       "<style>\n",
       ".list-inline {list-style: none; margin:0; padding: 0}\n",
       ".list-inline>li {display: inline-block}\n",
       ".list-inline>li:not(:last-child)::after {content: \"\\00b7\"; padding: 0 .5ex}\n",
       "</style>\n",
       "<ol class=list-inline><li>'Arrow Function Declarations'</li><li>'Async Declarations'</li><li>'Const Declarations'</li><li>'Let Declarations'</li></ol>\n"
      ],
      "text/latex": [
       "\\begin{enumerate*}\n",
       "\\item 'Arrow Function Declarations'\n",
       "\\item 'Async Declarations'\n",
       "\\item 'Const Declarations'\n",
       "\\item 'Let Declarations'\n",
       "\\end{enumerate*}\n"
      ],
      "text/markdown": [
       "1. 'Arrow Function Declarations'\n",
       "2. 'Async Declarations'\n",
       "3. 'Const Declarations'\n",
       "4. 'Let Declarations'\n",
       "\n",
       "\n"
      ],
      "text/plain": [
       "[1] \"Arrow Function Declarations\" \"Async Declarations\"         \n",
       "[3] \"Const Declarations\"          \"Let Declarations\"           "
      ]
     },
     "metadata": {},
     "output_type": "display_data"
    },
    {
     "data": {
      "text/html": [
       "<table>\n",
       "<caption>A matrix: 4 × 4 of type dbl</caption>\n",
       "<thead>\n",
       "\t<tr><th></th><th scope=col>Arrow Function Declarations</th><th scope=col>Async Declarations</th><th scope=col>Const Declarations</th><th scope=col>Let Declarations</th></tr>\n",
       "</thead>\n",
       "<tbody>\n",
       "\t<tr><th scope=row>Arrow Function Declarations</th><td> 1.00000000</td><td>0.2701530</td><td>-0.0570298</td><td>-0.08246136</td></tr>\n",
       "\t<tr><th scope=row>Async Declarations</th><td> 0.27015295</td><td>1.0000000</td><td> 0.8006151</td><td> 0.83531727</td></tr>\n",
       "\t<tr><th scope=row>Const Declarations</th><td>-0.05702980</td><td>0.8006151</td><td> 1.0000000</td><td> 0.90291668</td></tr>\n",
       "\t<tr><th scope=row>Let Declarations</th><td>-0.08246136</td><td>0.8353173</td><td> 0.9029167</td><td> 1.00000000</td></tr>\n",
       "</tbody>\n",
       "</table>\n"
      ],
      "text/latex": [
       "A matrix: 4 × 4 of type dbl\n",
       "\\begin{tabular}{r|llll}\n",
       "  & Arrow Function Declarations & Async Declarations & Const Declarations & Let Declarations\\\\\n",
       "\\hline\n",
       "\tArrow Function Declarations &  1.00000000 & 0.2701530 & -0.0570298 & -0.08246136\\\\\n",
       "\tAsync Declarations &  0.27015295 & 1.0000000 &  0.8006151 &  0.83531727\\\\\n",
       "\tConst Declarations & -0.05702980 & 0.8006151 &  1.0000000 &  0.90291668\\\\\n",
       "\tLet Declarations & -0.08246136 & 0.8353173 &  0.9029167 &  1.00000000\\\\\n",
       "\\end{tabular}\n"
      ],
      "text/markdown": [
       "\n",
       "A matrix: 4 × 4 of type dbl\n",
       "\n",
       "| <!--/--> | Arrow Function Declarations | Async Declarations | Const Declarations | Let Declarations |\n",
       "|---|---|---|---|---|\n",
       "| Arrow Function Declarations |  1.00000000 | 0.2701530 | -0.0570298 | -0.08246136 |\n",
       "| Async Declarations |  0.27015295 | 1.0000000 |  0.8006151 |  0.83531727 |\n",
       "| Const Declarations | -0.05702980 | 0.8006151 |  1.0000000 |  0.90291668 |\n",
       "| Let Declarations | -0.08246136 | 0.8353173 |  0.9029167 |  1.00000000 |\n",
       "\n"
      ],
      "text/plain": [
       "                            Arrow Function Declarations Async Declarations\n",
       "Arrow Function Declarations  1.00000000                 0.2701530         \n",
       "Async Declarations           0.27015295                 1.0000000         \n",
       "Const Declarations          -0.05702980                 0.8006151         \n",
       "Let Declarations            -0.08246136                 0.8353173         \n",
       "                            Const Declarations Let Declarations\n",
       "Arrow Function Declarations -0.0570298         -0.08246136     \n",
       "Async Declarations           0.8006151          0.83531727     \n",
       "Const Declarations           1.0000000          0.90291668     \n",
       "Let Declarations             0.9029167          1.00000000     "
      ]
     },
     "metadata": {},
     "output_type": "display_data"
    },
    {
     "data": {
      "text/html": [
       "<table>\n",
       "<caption>A tibble: 4 × 3</caption>\n",
       "<thead>\n",
       "\t<tr><th scope=col>feature</th><th scope=col>statments</th><th scope=col>files</th></tr>\n",
       "\t<tr><th scope=col>&lt;fct&gt;</th><th scope=col>&lt;dbl&gt;</th><th scope=col>&lt;dbl&gt;</th></tr>\n",
       "</thead>\n",
       "<tbody>\n",
       "\t<tr><td>async_declarations         </td><td> 0.06433069</td><td>0.4735113</td></tr>\n",
       "\t<tr><td>const_declarations         </td><td>-0.25688079</td><td>0.3473022</td></tr>\n",
       "\t<tr><td>arrow_function_declarations</td><td> 0.86261631</td><td>0.4280827</td></tr>\n",
       "\t<tr><td>let_declarations           </td><td>-0.20462297</td><td>0.3141282</td></tr>\n",
       "</tbody>\n",
       "</table>\n"
      ],
      "text/latex": [
       "A tibble: 4 × 3\n",
       "\\begin{tabular}{lll}\n",
       " feature & statments & files\\\\\n",
       " <fct> & <dbl> & <dbl>\\\\\n",
       "\\hline\n",
       "\t async\\_declarations          &  0.06433069 & 0.4735113\\\\\n",
       "\t const\\_declarations          & -0.25688079 & 0.3473022\\\\\n",
       "\t arrow\\_function\\_declarations &  0.86261631 & 0.4280827\\\\\n",
       "\t let\\_declarations            & -0.20462297 & 0.3141282\\\\\n",
       "\\end{tabular}\n"
      ],
      "text/markdown": [
       "\n",
       "A tibble: 4 × 3\n",
       "\n",
       "| feature &lt;fct&gt; | statments &lt;dbl&gt; | files &lt;dbl&gt; |\n",
       "|---|---|---|\n",
       "| async_declarations          |  0.06433069 | 0.4735113 |\n",
       "| const_declarations          | -0.25688079 | 0.3473022 |\n",
       "| arrow_function_declarations |  0.86261631 | 0.4280827 |\n",
       "| let_declarations            | -0.20462297 | 0.3141282 |\n",
       "\n"
      ],
      "text/plain": [
       "  feature                     statments   files    \n",
       "1 async_declarations           0.06433069 0.4735113\n",
       "2 const_declarations          -0.25688079 0.3473022\n",
       "3 arrow_function_declarations  0.86261631 0.4280827\n",
       "4 let_declarations            -0.20462297 0.3141282"
      ]
     },
     "metadata": {},
     "output_type": "display_data"
    },
    {
     "data": {
      "image/png": "[encoded data removed]",
      "text/plain": [
       "Plot with title “”"
      ]
     },
     "metadata": {
      "image/png": {
       "height": 420,
       "width": 420
      },
      "text/plain": {
       "height": 420,
       "width": 420
      }
     },
     "output_type": "display_data"
    }
   ],
   "source": [
    "rq6 <- sqldf(\"select project, feature, statements, files, total\n",
    "                      from rq1 \n",
    "                      where feature in ('async_declarations','arrow_function_declarations', 'const_declarations',\n",
    "'let_declarations')\n",
    "                      order by 2\")\n",
    "\n",
    "# rq6\n",
    "\n",
    "arrow_function_declarations <- sqldf(\"select project, total as total_arrow from rq6 where feature = \n",
    "'arrow_function_declarations'\")\n",
    "async_declarations <- sqldf(\"select project, total as total_async from rq6 where feature = 'async_declarations'\")\n",
    "const_declarations <- sqldf(\"select project, total as total_const from rq6 where feature = 'const_declarations'\")\n",
    "let_declarations <- sqldf(\"select project, total as total_let from rq6 where feature = 'let_declarations'\")\n",
    "\n",
    "rq8 <- merge(arrow_function_declarations,async_declarations)\n",
    "rq8 <- merge(rq8,const_declarations)\n",
    "rq8 <- merge(rq8,let_declarations)\n",
    "\n",
    "nrow(rq8)\n",
    "colnames(rq8)\n",
    "\n",
    "rq8 <- sqldf(\"select total_arrow as [Arrow Function Declarations], total_async as [Async Declarations], \n",
    "total_const as [Const Declarations], total_let as [Let Declarations] from rq8\")\n",
    "\n",
    "res <- cor(rq8)\n",
    "colnames(res)\n",
    "res\n",
    "\n",
    "corrplot(res, type = \"upper\", order = \"hclust\", \n",
    "          tl.col = \"black\", tl.srt = 45)\n",
    "\n",
    "\n",
    "rq6%>%\n",
    "group_by(feature)%>% \n",
    "summarise(statments=cor(statements,total,method=\"spearman\"), files=cor(files,total,method=\"spearman\"))\n"
   ]
  },
  {
   "cell_type": "code",
   "execution_count": 51,
   "metadata": {
    "tags": [],
    "vscode": {
     "languageId": "r"
    }
   },
   "outputs": [
    {
     "data": {
      "text/html": [
       "0"
      ],
      "text/latex": [
       "0"
      ],
      "text/markdown": [
       "0"
      ],
      "text/plain": [
       "[1] 0"
      ]
     },
     "metadata": {},
     "output_type": "display_data"
    },
    {
     "data": {
      "text/html": [
       "<table>\n",
       "<caption>A data.frame: 1 × 1</caption>\n",
       "<thead>\n",
       "\t<tr><th scope=col>count(distinct project)</th></tr>\n",
       "\t<tr><th scope=col>&lt;int&gt;</th></tr>\n",
       "</thead>\n",
       "<tbody>\n",
       "\t<tr><td>28</td></tr>\n",
       "</tbody>\n",
       "</table>\n"
      ],
      "text/latex": [
       "A data.frame: 1 × 1\n",
       "\\begin{tabular}{l}\n",
       " count(distinct project)\\\\\n",
       " <int>\\\\\n",
       "\\hline\n",
       "\t 28\\\\\n",
       "\\end{tabular}\n"
      ],
      "text/markdown": [
       "\n",
       "A data.frame: 1 × 1\n",
       "\n",
       "| count(distinct project) &lt;int&gt; |\n",
       "|---|\n",
       "| 28 |\n",
       "\n"
      ],
      "text/plain": [
       "  count(distinct project)\n",
       "1 28                     "
      ]
     },
     "metadata": {},
     "output_type": "display_data"
    },
    {
     "data": {
      "text/html": [
       "<table>\n",
       "<caption>A data.frame: 16 × 2</caption>\n",
       "<thead>\n",
       "\t<tr><th scope=col>feature</th><th scope=col>min(monthYear)</th></tr>\n",
       "\t<tr><th scope=col>&lt;fct&gt;</th><th scope=col>&lt;chr&gt;</th></tr>\n",
       "</thead>\n",
       "<tbody>\n",
       "\t<tr><td>array_destructuring        </td><td>2015-10</td></tr>\n",
       "\t<tr><td>arrow_function_declarations</td><td>2012-02</td></tr>\n",
       "\t<tr><td>async_declarations         </td><td>2012-02</td></tr>\n",
       "\t<tr><td>await_declarations         </td><td>2015-03</td></tr>\n",
       "\t<tr><td>class_declarations         </td><td>2015-09</td></tr>\n",
       "\t<tr><td>const_declarations         </td><td>2013-01</td></tr>\n",
       "\t<tr><td>default_parameters         </td><td>2015-09</td></tr>\n",
       "\t<tr><td>export_declarations        </td><td>2015-03</td></tr>\n",
       "\t<tr><td>import_statements          </td><td>2015-03</td></tr>\n",
       "\t<tr><td>let_declarations           </td><td>2013-01</td></tr>\n",
       "\t<tr><td>object_destructuring       </td><td>2013-01</td></tr>\n",
       "\t<tr><td>promise_all_and_then       </td><td>2013-01</td></tr>\n",
       "\t<tr><td>promise_declarations       </td><td>2013-01</td></tr>\n",
       "\t<tr><td>rest_statements            </td><td>2016-12</td></tr>\n",
       "\t<tr><td>spread_arguments           </td><td>2013-01</td></tr>\n",
       "\t<tr><td>yield_declarations         </td><td>2017-10</td></tr>\n",
       "</tbody>\n",
       "</table>\n"
      ],
      "text/latex": [
       "A data.frame: 16 × 2\n",
       "\\begin{tabular}{ll}\n",
       " feature & min(monthYear)\\\\\n",
       " <fct> & <chr>\\\\\n",
       "\\hline\n",
       "\t array\\_destructuring         & 2015-10\\\\\n",
       "\t arrow\\_function\\_declarations & 2012-02\\\\\n",
       "\t async\\_declarations          & 2012-02\\\\\n",
       "\t await\\_declarations          & 2015-03\\\\\n",
       "\t class\\_declarations          & 2015-09\\\\\n",
       "\t const\\_declarations          & 2013-01\\\\\n",
       "\t default\\_parameters          & 2015-09\\\\\n",
       "\t export\\_declarations         & 2015-03\\\\\n",
       "\t import\\_statements           & 2015-03\\\\\n",
       "\t let\\_declarations            & 2013-01\\\\\n",
       "\t object\\_destructuring        & 2013-01\\\\\n",
       "\t promise\\_all\\_and\\_then        & 2013-01\\\\\n",
       "\t promise\\_declarations        & 2013-01\\\\\n",
       "\t rest\\_statements             & 2016-12\\\\\n",
       "\t spread\\_arguments            & 2013-01\\\\\n",
       "\t yield\\_declarations          & 2017-10\\\\\n",
       "\\end{tabular}\n"
      ],
      "text/markdown": [
       "\n",
       "A data.frame: 16 × 2\n",
       "\n",
       "| feature &lt;fct&gt; | min(monthYear) &lt;chr&gt; |\n",
       "|---|---|\n",
       "| array_destructuring         | 2015-10 |\n",
       "| arrow_function_declarations | 2012-02 |\n",
       "| async_declarations          | 2012-02 |\n",
       "| await_declarations          | 2015-03 |\n",
       "| class_declarations          | 2015-09 |\n",
       "| const_declarations          | 2013-01 |\n",
       "| default_parameters          | 2015-09 |\n",
       "| export_declarations         | 2015-03 |\n",
       "| import_statements           | 2015-03 |\n",
       "| let_declarations            | 2013-01 |\n",
       "| object_destructuring        | 2013-01 |\n",
       "| promise_all_and_then        | 2013-01 |\n",
       "| promise_declarations        | 2013-01 |\n",
       "| rest_statements             | 2016-12 |\n",
       "| spread_arguments            | 2013-01 |\n",
       "| yield_declarations          | 2017-10 |\n",
       "\n"
      ],
      "text/plain": [
       "   feature                     min(monthYear)\n",
       "1  array_destructuring         2015-10       \n",
       "2  arrow_function_declarations 2012-02       \n",
       "3  async_declarations          2012-02       \n",
       "4  await_declarations          2015-03       \n",
       "5  class_declarations          2015-09       \n",
       "6  const_declarations          2013-01       \n",
       "7  default_parameters          2015-09       \n",
       "8  export_declarations         2015-03       \n",
       "9  import_statements           2015-03       \n",
       "10 let_declarations            2013-01       \n",
       "11 object_destructuring        2013-01       \n",
       "12 promise_all_and_then        2013-01       \n",
       "13 promise_declarations        2013-01       \n",
       "14 rest_statements             2016-12       \n",
       "15 spread_arguments            2013-01       \n",
       "16 yield_declarations          2017-10       "
      ]
     },
     "metadata": {},
     "output_type": "display_data"
    }
   ],
   "source": [
    "cd <- as.Date(\"2012-01-01\")\n",
    "maxDate <- as.Date(\"2023-06-30\")\n",
    "\n",
    "accm = ds[FALSE,]\n",
    "nrow(accm)\n",
    "while(cd < maxDate) {\n",
    "  lastCommit <- fn$sqldf(\"select project, max(date) as date\n",
    "                       from ds \n",
    "                       where date < '$cd'\n",
    "                       group by project\");\n",
    "  \n",
    "  \n",
    "  \n",
    "  monthYear = format(cd, \"%Y-%m\");\n",
    "  \n",
    "  snapshot <- fn$sqldf(\"select ds.*, '$monthYear' as monthYear\n",
    "                        from ds, lastCommit lc\n",
    "                        where ds.project = lc.project \n",
    "                          and ds.date = lc.date\");\n",
    "  \n",
    "  \n",
    "  accm <- rbind(accm, snapshot);\n",
    "  \n",
    "  # cd <- cd + 7;\n",
    "  cd <- ymd(cd %m+% months(1))\n",
    "}\n",
    "\n",
    "rq2 <- sqldf(\"select project, monthYear, async_declarations,await_declarations,const_declarations,\n",
    "class_declarations,arrow_function_declarations,let_declarations,export_declarations,yield_declarations,\n",
    "import_statements,promise_declarations,promise_all_and_then,default_parameters,rest_statements,\n",
    "spread_arguments,array_destructuring,object_destructuring\n",
    "              from accm\")\n",
    "\n",
    "sqldf(\"select count(distinct project) from accm\")\n",
    "\n",
    "rq2 <- melt(rq2, id.vars=c(\"project\", \"monthYear\"), value.name = \"total\", variable.name=\"feature\")\n",
    "\n",
    "\n",
    "sqldf(\"select feature, min(monthYear)\n",
    "       from rq2\n",
    "       where total > 0\n",
    "       group by feature\")"
   ]
  },
  {
   "cell_type": "code",
   "execution_count": 56,
   "metadata": {
    "tags": [],
    "vscode": {
     "languageId": "r"
    }
   },
   "outputs": [
    {
     "data": {
      "text/html": [
       "<strong>png:</strong> 2"
      ],
      "text/latex": [
       "\\textbf{png:} 2"
      ],
      "text/markdown": [
       "**png:** 2"
      ],
      "text/plain": [
       "png \n",
       "  2 "
      ]
     },
     "metadata": {},
     "output_type": "display_data"
    },
    {
     "data": {
      "text/html": [
       "<strong>png:</strong> 2"
      ],
      "text/latex": [
       "\\textbf{png:} 2"
      ],
      "text/markdown": [
       "**png:** 2"
      ],
      "text/plain": [
       "png \n",
       "  2 "
      ]
     },
     "metadata": {},
     "output_type": "display_data"
    },
    {
     "data": {
      "text/html": [
       "<strong>png:</strong> 2"
      ],
      "text/latex": [
       "\\textbf{png:} 2"
      ],
      "text/markdown": [
       "**png:** 2"
      ],
      "text/plain": [
       "png \n",
       "  2 "
      ]
     },
     "metadata": {},
     "output_type": "display_data"
    }
   ],
   "source": [
    "ts <- sqldf(\"select feature, monthYear, sum(total) total\n",
    "       from rq2 \n",
    "       group by feature, monthYear \n",
    "       order by 1,2\")\n",
    "\n",
    "ts$monthYear = as.Date(paste(ts$monthYear,\"-01\",sep=\"\"))\n",
    "\n",
    "# Customizing the output\n",
    "pdf(\"arrow_function_declarations.pdf\",         # File name\n",
    "    width = 8, height = 7, # Width and height in inches\n",
    "    bg = \"white\")\n",
    "xyplot(total ~ monthYear | feature, data=ts[ts$feature == 'arrow_function_declarations',], type = \"l\")\n",
    "dev.off()\n",
    "\n",
    "# Customizing the output\n",
    "pdf(\"async_declarations.pdf\",         # File name\n",
    "    width = 8, height = 7, # Width and height in inches\n",
    "    bg = \"white\")\n",
    "xyplot(total ~ monthYear | feature, data=ts[ts$feature == 'async_declarations',], type = \"l\")\n",
    "dev.off()\n",
    "\n",
    "# # Customizing the output\n",
    "pdf(\"let_declarations.pdf\",         # File name\n",
    "    width = 8, height = 7, # Width and height in inches\n",
    "    bg = \"white\")\n",
    "xyplot(total ~ monthYear | feature, data=ts[ts$feature == 'let_declarations',], type = \"l\")\n",
    "dev.off()\n"
   ]
  },
  {
   "cell_type": "code",
   "execution_count": 57,
   "metadata": {
    "tags": [],
    "vscode": {
     "languageId": "r"
    }
   },
   "outputs": [
    {
     "data": {
      "text/html": [
       "<strong>png:</strong> 2"
      ],
      "text/latex": [
       "\\textbf{png:} 2"
      ],
      "text/markdown": [
       "**png:** 2"
      ],
      "text/plain": [
       "png \n",
       "  2 "
      ]
     },
     "metadata": {},
     "output_type": "display_data"
    },
    {
     "data": {
      "text/html": [
       "<strong>png:</strong> 2"
      ],
      "text/latex": [
       "\\textbf{png:} 2"
      ],
      "text/markdown": [
       "**png:** 2"
      ],
      "text/plain": [
       "png \n",
       "  2 "
      ]
     },
     "metadata": {},
     "output_type": "display_data"
    },
    {
     "data": {
      "text/html": [
       "<strong>png:</strong> 2"
      ],
      "text/latex": [
       "\\textbf{png:} 2"
      ],
      "text/markdown": [
       "**png:** 2"
      ],
      "text/plain": [
       "png \n",
       "  2 "
      ]
     },
     "metadata": {},
     "output_type": "display_data"
    }
   ],
   "source": [
    "pdf(\"const_declarations.pdf\",         # File name\n",
    "    width = 8, height = 7, # Width and height in inches\n",
    "    bg = \"white\")\n",
    "xyplot(total ~ monthYear | feature, data=ts[ts$feature == 'const_declarations',], type = \"l\")\n",
    "dev.off()\n",
    "\n",
    "pdf(\"object_destructuring.pdf\",         # File name\n",
    "    width = 8, height = 7, # Width and height in inches\n",
    "    bg = \"white\")\n",
    "xyplot(total ~ monthYear | feature, data=ts[ts$feature == 'object_destructuring',], type = \"l\")\n",
    "dev.off()\n",
    "\n",
    "pdf(\"array_destructuring.pdf\",         # File name\n",
    "    width = 8, height = 7, # Width and height in inches\n",
    "    bg = \"white\")\n",
    "xyplot(total ~ monthYear | feature, data=ts[ts$feature == 'array_destructuring',], type = \"l\")\n",
    "dev.off()"
   ]
  }
 ],
 "metadata": {
  "kernelspec": {
   "display_name": "R",
   "language": "R",
   "name": "ir"
  },
  "language_info": {
   "codemirror_mode": "r",
   "file_extension": ".r",
   "mimetype": "text/x-r-source",
   "name": "R",
   "pygments_lexer": "r",
   "version": "3.6.2"
  }
 },
 "nbformat": 4,
 "nbformat_minor": 5
}
